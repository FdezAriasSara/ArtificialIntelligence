{
 "cells": [
  {
   "cell_type": "markdown",
   "metadata": {},
   "source": [
    "# imports\n"
   ]
  },
  {
   "cell_type": "code",
   "execution_count": 65,
   "metadata": {},
   "outputs": [],
   "source": [
    "#pip install pandas\n",
    "#pip install numpy\n",
    "#pip install -U scikit-learn\n",
    "\n",
    "import pandas as pd\n",
    "import matplotlib.pyplot as plt\n",
    "import numpy as np\n",
    "import seaborn as sns\n",
    "# Counter proporciona un diccionario donde cada elemento distinto se almacena \n",
    "# como claves con un valor asociado igual a su cuenta\n",
    "from collections import Counter\n",
    " \n",
    "\n",
    "import sklearn\n",
    "from sklearn.metrics import accuracy_score, confusion_matrix\n",
    "from sklearn.neighbors import KNeighborsClassifier\n",
    "\n",
    "from sklearn.model_selection import train_test_split\n",
    "from sklearn.pipeline import Pipeline\n",
    "from sklearn.model_selection import cross_val_score, StratifiedKFold\n",
    " \n",
    "from sklearn.compose import ColumnTransformer\n",
    "from sklearn.impute import SimpleImputer \n",
    "from sklearn.model_selection import cross_val_predict\n",
    "from sklearn.preprocessing import StandardScaler, OneHotEncoder\n",
    "from sklearn.pipeline import Pipeline\n",
    "from sklearn.model_selection import GridSearchCV\n",
    "from sklearn.ensemble import RandomForestClassifier\n",
    "from sklearn.model_selection import train_test_split\n",
    " \n",
    "from sklearn.datasets import make_classification\n",
    "from sklearn.model_selection import train_test_split\n",
    "from sklearn.dummy import DummyClassifier\n",
    "from sklearn.metrics import accuracy_score, confusion_matrix, classification_report\n",
    "\n",
    " \n",
    "from sklearn.metrics import precision_score\n",
    "from sklearn.metrics import recall_score\n",
    "from sklearn.metrics import f1_score\n",
    "from sklearn.metrics import classification_report\n",
    "from sklearn.metrics import roc_curve, roc_auc_score"
   ]
  },
  {
   "cell_type": "markdown",
   "metadata": {},
   "source": [
    "# El problema de la accuracy\n",
    "La matriz de confusión y la accuracy son útiles si la distribución de clases es algo balanceada. \n",
    "\n",
    "\n",
    "Si es muy drástica, y tenemos, por ejemplo;  90/100 ejemplos positivos y 10/100 negativos y aplicamos un clasificador \"tonto\" que asigne la clase mayoritaria (en este caso, el positivo) tendríamos una accuracy de 90+0/90+10+0+0= 0.90 = 90%.\n",
    "\n",
    "\n",
    " Si no supiéramos que el clasificador asigna la clase mayoritaria, podríamos llegar a pensar que se trata de un muy buen clasificador!!"
   ]
  },
  {
   "cell_type": "markdown",
   "metadata": {},
   "source": [
    "# ver la distribución de clases  del dataset\n"
   ]
  },
  {
   "cell_type": "markdown",
   "metadata": {},
   "source": [
    "### datos usados para estos ejemplos."
   ]
  },
  {
   "cell_type": "code",
   "execution_count": null,
   "metadata": {},
   "outputs": [],
   "source": [
    " \n",
    "# Generar un dataset muy desbalanceado\n",
    "X, y = make_classification(n_samples=100, n_features=20, n_classes=2, weights=[0.99, 0.01], random_state=42)\n",
    "\n",
    "# Split the data into training and test sets\n",
    "dX_train, dX_test, dy_train, dy_test = train_test_split(X, y, test_size=0.2, random_state=42)\n",
    "\n",
    "# Create a dummy classifier that always predicts the majority class\n",
    "dummy_classifier = DummyClassifier(strategy='most_frequent')\n",
    "dummy_classifier.fit(dX_train, dy_train)\n",
    "\n",
    "# Make predictions on the test set\n",
    "predictions = dummy_classifier.predict(dX_test)\n",
    " "
   ]
  },
  {
   "cell_type": "markdown",
   "metadata": {},
   "source": [
    "## Impresión de una matriz de confusión como heatmap"
   ]
  },
  {
   "cell_type": "code",
   "execution_count": null,
   "metadata": {},
   "outputs": [],
   "source": [
    "\n",
    "import seaborn as sns\n",
    "\n",
    "# Create a confusion matrix\n",
    "conf_matrix = confusion_matrix(dy_test,predictions)\n",
    "\n",
    "# Plot the confusion matrix as a heatmap\n",
    "plt.figure(figsize=(5, 5))\n",
    "sns.heatmap(conf_matrix, annot=True, fmt='d', cmap='Blues', cbar=False,\n",
    "            xticklabels=['Class 0', 'Class 1'], yticklabels=['Class 0', 'Class 1'])\n",
    "plt.title('Confusion Matrix')\n",
    "plt.xlabel('Predicted Label')\n",
    "plt.ylabel('True Label')\n",
    "plt.show()\n",
    " "
   ]
  },
  {
   "cell_type": "code",
   "execution_count": null,
   "metadata": {},
   "outputs": [],
   "source": [
    "import matplotlib.pyplot as plt\n",
    "\n",
    "\n",
    "####################### DATOS DE EJEMPLO\n",
    "\n",
    "# Generar un dataset muy desbalanceado\n",
    "X, y = make_classification(n_samples=100, n_features=20, n_classes=2, weights=[0.99, 0.01], random_state=42)\n",
    "\n",
    "# Split the data into training and test sets\n",
    "dX_train, dX_test, dy_train, dy_test = train_test_split(X, y, test_size=0.2, random_state=42)\n",
    "\n",
    "\n",
    "\n",
    "####################### DATOS DE EJEMPLO\n",
    "\n",
    "# Plotting the data\n",
    "plt.figure(figsize=(5, 5))\n",
    "\n",
    "# Plotting the majority class (Class 0)\n",
    "plt.scatter(dX_test[dy_test == 0][:, 0], dX_test[dy_test == 0][:, 1], label='Class 0', c='blue', marker='o', s=50)\n",
    "\n",
    "# Plotting the minority class (Class 1)\n",
    "plt.scatter(dX_test[dy_test == 1][:, 0], dX_test[dy_test == 1][:, 1], label='Class 1', c='red', marker='x', s=50)\n",
    "\n",
    "plt.title('Test Data Distribution')\n",
    "plt.xlabel('Variable1')\n",
    "plt.ylabel('Variable2')\n",
    "plt.legend()\n",
    "plt.show()"
   ]
  },
  {
   "cell_type": "markdown",
   "metadata": {},
   "source": [
    "# OTRAS "
   ]
  },
  {
   "cell_type": "markdown",
   "metadata": {},
   "source": [
    "### datos"
   ]
  },
  {
   "cell_type": "code",
   "execution_count": null,
   "metadata": {},
   "outputs": [],
   "source": [
    "# Load the dataset\n",
    "df_train = pd.read_csv(\"datos/datos03_train.csv\")\n",
    "X_train = df_train.drop('Clase', axis=1)\n",
    "y_train = df_train['Clase']\n",
    "\n",
    "df_test = pd.read_csv(\"datos/datos03_train.csv\")\n",
    "X_test = df_test.drop('Clase', axis=1)\n",
    "y_test = df_test['Clase']\n",
    "y_true = y_test\n",
    "\n",
    "# Crear un pipeline con el escalador y el modelo\n",
    "pipeline = Pipeline([\n",
    "    ('scaler', StandardScaler()),  # Scale the features\n",
    "    ('knn', KNeighborsClassifier())  # KNeighbors Classifier\n",
    "])\n",
    "\n",
    "# Entrenar el modelo\n",
    "pipeline.fit(X_train, y_train)\n",
    "\n",
    "# Make predictions on the test set\n",
    "y_pred = pipeline.predict(X_test)\n",
    "y_scores = pipeline.predict_proba(X_test)"
   ]
  },
  {
   "cell_type": "markdown",
   "metadata": {},
   "source": [
    "### código métricas\n"
   ]
  },
  {
   "cell_type": "code",
   "execution_count": null,
   "metadata": {},
   "outputs": [],
   "source": [
    "############### precision ############### \n",
    "from sklearn.metrics import precision_score\n",
    "precision = precision_score(y_true, y_pred, pos_label='c1')\n",
    "print('Precision : '+ str(precision))\n",
    "############### recall /sensibilidad ############### \n",
    "from sklearn.metrics import recall_score\n",
    "recall = recall_score(y_true, y_pred, pos_label='c1')\n",
    "recall\n",
    "print('Recall : '+ str(recall))\n",
    "############### F1 SCORE ############### \n",
    "from sklearn.metrics import f1_score\n",
    "f1 = f1_score(y_true, y_pred, pos_label='c1')\n",
    "f1\n",
    "print('F1 Score : '+ str(f1))"
   ]
  },
  {
   "cell_type": "markdown",
   "metadata": {},
   "source": [
    "## CURVA ROC. "
   ]
  },
  {
   "cell_type": "code",
   "execution_count": null,
   "metadata": {},
   "outputs": [],
   "source": [
    " \n",
    "fpr, tpr, thresholds = roc_curve(y_true, y_scores[:,0], pos_label='c1')  # y_scores son las puntuaciones del modelo\n",
    "auc = roc_auc_score(y_true, y_scores[:,0])\n",
    " \n",
    "\n",
    "# Assuming you already have fpr, tpr, thresholds from roc_curve\n",
    "# y_true and y_scores are the true labels and predicted probabilities, respectively\n",
    "\n",
    "# Plot ROC curve\n",
    "plt.figure(figsize=(8, 6))\n",
    "plt.plot(fpr, tpr, color='blue', lw=2, label=f'AUC = {roc_auc_score(y_true, y_scores[:,0]):.2f}')\n",
    "plt.plot([0, 1], [0, 1], color='gray', linestyle='--', lw=2)\n",
    "plt.title('ROC Curve')\n",
    "plt.xlabel('False Positive Rate')\n",
    "plt.ylabel('True Positive Rate')\n",
    "plt.legend(loc='lower right')\n",
    "plt.show()"
   ]
  },
  {
   "cell_type": "markdown",
   "metadata": {},
   "source": [
    "## RESUMEN DE MÉTRICAS EN TABLA - CLASIFICATION REPORT\n"
   ]
  },
  {
   "cell_type": "code",
   "execution_count": null,
   "metadata": {},
   "outputs": [],
   "source": [
    "from sklearn.metrics import classification_report\n",
    "print(\"Classification Report:\")\n",
    "print(classification_report(y_test, y_pred))"
   ]
  }
 ],
 "metadata": {
  "kernelspec": {
   "display_name": "Python 3",
   "language": "python",
   "name": "python3"
  },
  "language_info": {
   "codemirror_mode": {
    "name": "ipython",
    "version": 3
   },
   "file_extension": ".py",
   "mimetype": "text/x-python",
   "name": "python",
   "nbconvert_exporter": "python",
   "pygments_lexer": "ipython3",
   "version": "3.11.9"
  }
 },
 "nbformat": 4,
 "nbformat_minor": 2
}
